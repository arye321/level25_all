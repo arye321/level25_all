{
 "cells": [
  {
   "cell_type": "code",
   "execution_count": 1,
   "metadata": {},
   "outputs": [
    {
     "name": "stdout",
     "output_type": "stream",
     "text": [
      "xd\n"
     ]
    }
   ],
   "source": [
    "print('xd')"
   ]
  },
  {
   "cell_type": "code",
   "execution_count": 1,
   "metadata": {},
   "outputs": [],
   "source": [
    "# from distutils.dir_util import copy_tree\n",
    "import shutil\n",
    "\n",
    "from datetime import datetime\n",
    "import os\n",
    "# rmtree(\"./test\")\n",
    "def theTime():\n",
    "    return str(datetime.now().strftime(\"%d-%m-%Y %Hh%Mm%Ss\"))\n",
    "\n",
    "game_folder = \"E:\\SteamLibrary\\steamapps\\common\\dota 2 beta\\game\\dota_addons\\level25\"\n",
    "panorama_folder = \"E:\\SteamLibrary\\steamapps\\common\\dota 2 beta\\content\\dota_addons\\level25\"\n",
    "\n",
    "backup_folder_name = theTime()\n",
    "shutil.copytree(\"./game\", f\"./old/{backup_folder_name}/game\")  \n",
    "shutil.copytree(\"./panorama\", f\"./old/{backup_folder_name}/panorama\")   \n",
    "os.system('rmdir /Q /S game')\n",
    "os.system('rmdir /Q /S panorama')\n",
    "\n",
    "shutil.copytree(game_folder, \"./game\")  \n",
    "shutil.copytree(panorama_folder, \"./panorama\")  \n",
    "\n",
    "\n",
    "\n"
   ]
  },
  {
   "cell_type": "code",
   "execution_count": 3,
   "metadata": {},
   "outputs": [
    {
     "data": {
      "text/plain": [
       "0"
      ]
     },
     "execution_count": 3,
     "metadata": {},
     "output_type": "execute_result"
    }
   ],
   "source": []
  },
  {
   "cell_type": "code",
   "execution_count": 8,
   "metadata": {},
   "outputs": [
    {
     "ename": "DistutilsFileError",
     "evalue": "could not create './game\\.git\\COMMIT_EDITMSG': No such file or directory",
     "output_type": "error",
     "traceback": [
      "\u001b[1;31m---------------------------------------------------------------------------\u001b[0m",
      "\u001b[1;31mFileNotFoundError\u001b[0m                         Traceback (most recent call last)",
      "\u001b[1;32md:\\py3.10\\lib\\distutils\\file_util.py\u001b[0m in \u001b[0;36m_copy_file_contents\u001b[1;34m(src, dst, buffer_size)\u001b[0m\n\u001b[0;32m     40\u001b[0m         \u001b[1;32mtry\u001b[0m\u001b[1;33m:\u001b[0m\u001b[1;33m\u001b[0m\u001b[1;33m\u001b[0m\u001b[0m\n\u001b[1;32m---> 41\u001b[1;33m             \u001b[0mfdst\u001b[0m \u001b[1;33m=\u001b[0m \u001b[0mopen\u001b[0m\u001b[1;33m(\u001b[0m\u001b[0mdst\u001b[0m\u001b[1;33m,\u001b[0m \u001b[1;34m'wb'\u001b[0m\u001b[1;33m)\u001b[0m\u001b[1;33m\u001b[0m\u001b[1;33m\u001b[0m\u001b[0m\n\u001b[0m\u001b[0;32m     42\u001b[0m         \u001b[1;32mexcept\u001b[0m \u001b[0mOSError\u001b[0m \u001b[1;32mas\u001b[0m \u001b[0me\u001b[0m\u001b[1;33m:\u001b[0m\u001b[1;33m\u001b[0m\u001b[1;33m\u001b[0m\u001b[0m\n",
      "\u001b[1;31mFileNotFoundError\u001b[0m: [Errno 2] No such file or directory: './game\\\\.git\\\\COMMIT_EDITMSG'",
      "\nDuring handling of the above exception, another exception occurred:\n",
      "\u001b[1;31mDistutilsFileError\u001b[0m                        Traceback (most recent call last)",
      "\u001b[1;32m~\\AppData\\Local\\Temp/ipykernel_29960/2848821931.py\u001b[0m in \u001b[0;36m<module>\u001b[1;34m\u001b[0m\n\u001b[0;32m      1\u001b[0m \u001b[1;32mfrom\u001b[0m \u001b[0mdistutils\u001b[0m\u001b[1;33m.\u001b[0m\u001b[0mdir_util\u001b[0m \u001b[1;32mimport\u001b[0m \u001b[0mcopy_tree\u001b[0m\u001b[1;33m\u001b[0m\u001b[1;33m\u001b[0m\u001b[0m\n\u001b[0;32m      2\u001b[0m \u001b[1;33m\u001b[0m\u001b[0m\n\u001b[1;32m----> 3\u001b[1;33m \u001b[0mcopy_tree\u001b[0m\u001b[1;33m(\u001b[0m\u001b[0mgame_folder\u001b[0m\u001b[1;33m,\u001b[0m \u001b[1;34m\"./game\"\u001b[0m\u001b[1;33m)\u001b[0m\u001b[1;33m\u001b[0m\u001b[1;33m\u001b[0m\u001b[0m\n\u001b[0m\u001b[0;32m      4\u001b[0m \u001b[0mcopy_tree\u001b[0m\u001b[1;33m(\u001b[0m\u001b[0mpanorama_folder\u001b[0m\u001b[1;33m,\u001b[0m \u001b[1;34m\"./panorama\"\u001b[0m\u001b[1;33m)\u001b[0m\u001b[1;33m\u001b[0m\u001b[1;33m\u001b[0m\u001b[0m\n",
      "\u001b[1;32md:\\py3.10\\lib\\distutils\\dir_util.py\u001b[0m in \u001b[0;36mcopy_tree\u001b[1;34m(src, dst, preserve_mode, preserve_times, preserve_symlinks, update, verbose, dry_run)\u001b[0m\n\u001b[0;32m    155\u001b[0m         \u001b[1;32melif\u001b[0m \u001b[0mos\u001b[0m\u001b[1;33m.\u001b[0m\u001b[0mpath\u001b[0m\u001b[1;33m.\u001b[0m\u001b[0misdir\u001b[0m\u001b[1;33m(\u001b[0m\u001b[0msrc_name\u001b[0m\u001b[1;33m)\u001b[0m\u001b[1;33m:\u001b[0m\u001b[1;33m\u001b[0m\u001b[1;33m\u001b[0m\u001b[0m\n\u001b[0;32m    156\u001b[0m             outputs.extend(\n\u001b[1;32m--> 157\u001b[1;33m                 copy_tree(src_name, dst_name, preserve_mode,\n\u001b[0m\u001b[0;32m    158\u001b[0m                           \u001b[0mpreserve_times\u001b[0m\u001b[1;33m,\u001b[0m \u001b[0mpreserve_symlinks\u001b[0m\u001b[1;33m,\u001b[0m \u001b[0mupdate\u001b[0m\u001b[1;33m,\u001b[0m\u001b[1;33m\u001b[0m\u001b[1;33m\u001b[0m\u001b[0m\n\u001b[0;32m    159\u001b[0m                           verbose=verbose, dry_run=dry_run))\n",
      "\u001b[1;32md:\\py3.10\\lib\\distutils\\dir_util.py\u001b[0m in \u001b[0;36mcopy_tree\u001b[1;34m(src, dst, preserve_mode, preserve_times, preserve_symlinks, update, verbose, dry_run)\u001b[0m\n\u001b[0;32m    159\u001b[0m                           verbose=verbose, dry_run=dry_run))\n\u001b[0;32m    160\u001b[0m         \u001b[1;32melse\u001b[0m\u001b[1;33m:\u001b[0m\u001b[1;33m\u001b[0m\u001b[1;33m\u001b[0m\u001b[0m\n\u001b[1;32m--> 161\u001b[1;33m             copy_file(src_name, dst_name, preserve_mode,\n\u001b[0m\u001b[0;32m    162\u001b[0m                       \u001b[0mpreserve_times\u001b[0m\u001b[1;33m,\u001b[0m \u001b[0mupdate\u001b[0m\u001b[1;33m,\u001b[0m \u001b[0mverbose\u001b[0m\u001b[1;33m=\u001b[0m\u001b[0mverbose\u001b[0m\u001b[1;33m,\u001b[0m\u001b[1;33m\u001b[0m\u001b[1;33m\u001b[0m\u001b[0m\n\u001b[0;32m    163\u001b[0m                       dry_run=dry_run)\n",
      "\u001b[1;32md:\\py3.10\\lib\\distutils\\file_util.py\u001b[0m in \u001b[0;36mcopy_file\u001b[1;34m(src, dst, preserve_mode, preserve_times, update, link, verbose, dry_run)\u001b[0m\n\u001b[0;32m    149\u001b[0m     \u001b[1;31m# Otherwise (non-Mac, not linking), copy the file contents and\u001b[0m\u001b[1;33m\u001b[0m\u001b[1;33m\u001b[0m\u001b[0m\n\u001b[0;32m    150\u001b[0m     \u001b[1;31m# (optionally) copy the times and mode.\u001b[0m\u001b[1;33m\u001b[0m\u001b[1;33m\u001b[0m\u001b[0m\n\u001b[1;32m--> 151\u001b[1;33m     \u001b[0m_copy_file_contents\u001b[0m\u001b[1;33m(\u001b[0m\u001b[0msrc\u001b[0m\u001b[1;33m,\u001b[0m \u001b[0mdst\u001b[0m\u001b[1;33m)\u001b[0m\u001b[1;33m\u001b[0m\u001b[1;33m\u001b[0m\u001b[0m\n\u001b[0m\u001b[0;32m    152\u001b[0m     \u001b[1;32mif\u001b[0m \u001b[0mpreserve_mode\u001b[0m \u001b[1;32mor\u001b[0m \u001b[0mpreserve_times\u001b[0m\u001b[1;33m:\u001b[0m\u001b[1;33m\u001b[0m\u001b[1;33m\u001b[0m\u001b[0m\n\u001b[0;32m    153\u001b[0m         \u001b[0mst\u001b[0m \u001b[1;33m=\u001b[0m \u001b[0mos\u001b[0m\u001b[1;33m.\u001b[0m\u001b[0mstat\u001b[0m\u001b[1;33m(\u001b[0m\u001b[0msrc\u001b[0m\u001b[1;33m)\u001b[0m\u001b[1;33m\u001b[0m\u001b[1;33m\u001b[0m\u001b[0m\n",
      "\u001b[1;32md:\\py3.10\\lib\\distutils\\file_util.py\u001b[0m in \u001b[0;36m_copy_file_contents\u001b[1;34m(src, dst, buffer_size)\u001b[0m\n\u001b[0;32m     41\u001b[0m             \u001b[0mfdst\u001b[0m \u001b[1;33m=\u001b[0m \u001b[0mopen\u001b[0m\u001b[1;33m(\u001b[0m\u001b[0mdst\u001b[0m\u001b[1;33m,\u001b[0m \u001b[1;34m'wb'\u001b[0m\u001b[1;33m)\u001b[0m\u001b[1;33m\u001b[0m\u001b[1;33m\u001b[0m\u001b[0m\n\u001b[0;32m     42\u001b[0m         \u001b[1;32mexcept\u001b[0m \u001b[0mOSError\u001b[0m \u001b[1;32mas\u001b[0m \u001b[0me\u001b[0m\u001b[1;33m:\u001b[0m\u001b[1;33m\u001b[0m\u001b[1;33m\u001b[0m\u001b[0m\n\u001b[1;32m---> 43\u001b[1;33m             raise DistutilsFileError(\n\u001b[0m\u001b[0;32m     44\u001b[0m                   \"could not create '%s': %s\" % (dst, e.strerror))\n\u001b[0;32m     45\u001b[0m \u001b[1;33m\u001b[0m\u001b[0m\n",
      "\u001b[1;31mDistutilsFileError\u001b[0m: could not create './game\\.git\\COMMIT_EDITMSG': No such file or directory"
     ]
    }
   ],
   "source": [
    "from distutils.dir_util import copy_tree\n",
    "\n",
    "copy_tree(game_folder, \"./game\")  \n",
    "copy_tree(panorama_folder, \"./panorama\")  \n"
   ]
  },
  {
   "cell_type": "code",
   "execution_count": 4,
   "metadata": {},
   "outputs": [],
   "source": [
    "# from shutil import rmtree\n",
    "# rmtree(\"./test\")"
   ]
  },
  {
   "cell_type": "code",
   "execution_count": 10,
   "metadata": {},
   "outputs": [
    {
     "data": {
      "text/plain": [
       "'./panorama'"
      ]
     },
     "execution_count": 10,
     "metadata": {},
     "output_type": "execute_result"
    }
   ],
   "source": [
    "import shutil\n",
    "\n",
    "shutil.copytree(game_folder, \"./game\")  \n",
    "shutil.copytree(panorama_folder, \"./panorama\")  "
   ]
  }
 ],
 "metadata": {
  "kernelspec": {
   "display_name": "Python 3",
   "language": "python",
   "name": "python3"
  },
  "language_info": {
   "codemirror_mode": {
    "name": "ipython",
    "version": 3
   },
   "file_extension": ".py",
   "mimetype": "text/x-python",
   "name": "python",
   "nbconvert_exporter": "python",
   "pygments_lexer": "ipython3",
   "version": "3.10.1"
  },
  "orig_nbformat": 4,
  "vscode": {
   "interpreter": {
    "hash": "357bc670b07a1c07ffa1cd8a17a034149c4155f25f3d09c51491db3f30a5a7aa"
   }
  }
 },
 "nbformat": 4,
 "nbformat_minor": 2
}
